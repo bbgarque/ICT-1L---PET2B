{
 "cells": [
  {
   "cell_type": "code",
   "execution_count": 15,
   "id": "305850bb-0c75-40df-93d0-e0a45a3cd173",
   "metadata": {},
   "outputs": [
    {
     "name": "stdout",
     "output_type": "stream",
     "text": [
      "Matrix 1:\n",
      " [[2 2 7]\n",
      " [5 5 1]]\n",
      "\n",
      "Matrix 2:\n",
      " [[2 0 2]\n",
      " [4 5 9]]\n",
      "\n",
      "Matrix 3 (Addition):\n",
      " [[ 4  2  9]\n",
      " [ 9 10 10]]\n",
      "\n",
      "Matrix 4 (Scalar Multiplication):\n",
      " [[ 4  4 14]\n",
      " [10 10  2]]\n",
      "\n",
      "Matrix 5 (Transpose of Matrix 2):\n",
      " [[2 4]\n",
      " [0 5]\n",
      " [2 9]]\n",
      "\n",
      "Matrix 6 (Matrix Multiplication):\n",
      " [[ 8  8]\n",
      " [ 0 50]]\n",
      "\n",
      "Sum of all elements in Matrix 3: 44\n",
      "\n",
      "Matrix 7 (Zero Matrix):\n",
      " [[0. 0. 0.]\n",
      " [0. 0. 0.]]\n"
     ]
    }
   ],
   "source": [
    "import numpy as np\n",
    "\n",
    "# creating matrices\n",
    "# Initials: BBG [2, 2, 7]\n",
    "# Second letters: EEA [5, 5, 1]\n",
    "\n",
    "matrix_1 = np.array([[2, 2, 7], [5, 5, 1]])\n",
    "print(\"Matrix 1:\\n\", matrix_1)\n",
    "\n",
    "# Student number first 3 numbers: 202 [2, 0, 2]\n",
    "# Student number last 3 numbers: 459 [4, 5, 9]\n",
    "\n",
    "matrix_2 = np.array([[2, 0, 2], [4, 5, 9]])\n",
    "print(\"\\nMatrix 2:\\n\", matrix_2)\n",
    "\n",
    "# Matrix Addition\n",
    "matrix_3 = matrix_1 + matrix_2\n",
    "print(\"\\nMatrix 3 (Addition):\\n\", matrix_3)\n",
    "\n",
    "# Scalar Multiplication\n",
    "matrix_4 = matrix_1 * 2\n",
    "print(\"\\nMatrix 4 (Scalar Multiplication):\\n\", matrix_4)\n",
    "\n",
    "# Matrix Transpose\n",
    "matrix_5 = matrix_2.T\n",
    "print(\"\\nMatrix 5 (Transpose of Matrix 2):\\n\", matrix_5)\n",
    "\n",
    "# Matrix Multiplication\n",
    "for i in range(2):\n",
    "    for j in range(2):\n",
    "        matrix_6[i][j] = matrix_3[i][j] * matrix_5[i][j]\n",
    "print(\"\\nMatrix 6 (Matrix Multiplication):\\n\", matrix_6)\n",
    "\n",
    "# Sum of all elements in Matrix 3\n",
    "sum_matrix_3 = np.sum(matrix_3)\n",
    "print(\"\\nSum of all elements in Matrix 3:\", sum_matrix_3)\n",
    "\n",
    "# Zero Matrix\n",
    "matrix_7 = np.zeros((2, 3))\n",
    "print(\"\\nMatrix 7 (Zero Matrix):\\n\", matrix_7)"
   ]
  },
  {
   "cell_type": "code",
   "execution_count": null,
   "id": "efe07155-aab6-4440-8f68-7c58c838e06a",
   "metadata": {},
   "outputs": [],
   "source": []
  }
 ],
 "metadata": {
  "kernelspec": {
   "display_name": "Python [conda env:base] *",
   "language": "python",
   "name": "conda-base-py"
  },
  "language_info": {
   "codemirror_mode": {
    "name": "ipython",
    "version": 3
   },
   "file_extension": ".py",
   "mimetype": "text/x-python",
   "name": "python",
   "nbconvert_exporter": "python",
   "pygments_lexer": "ipython3",
   "version": "3.12.7"
  }
 },
 "nbformat": 4,
 "nbformat_minor": 5
}
